{
 "cells": [
  {
   "cell_type": "code",
   "execution_count": 1,
   "metadata": {},
   "outputs": [],
   "source": [
    "from miscpy.utils.sympyhelpers import *\n",
    "init_printing()"
   ]
  },
  {
   "cell_type": "code",
   "execution_count": 2,
   "metadata": {},
   "outputs": [],
   "source": [
    "th,thd,thdd,ph,phd,t = symbols('theta thetadot thetaddot phi phidot t',real=True)\n",
    "d,l= symbols('d l',real=True)"
   ]
  },
  {
   "cell_type": "code",
   "execution_count": 3,
   "metadata": {},
   "outputs": [],
   "source": [
    "iCa = rotMat(3,(ph-pi/2))\n",
    "aCb = rotMat(3,(th-pi/2))\n",
    "\n",
    "iWa = Matrix([0,0,phd])\n",
    "aWb = Matrix([0,0,thd])\n",
    "iWb = iWa+aWb\n",
    "diffmap = {th:thd,thd:thdd,ph:phd}\n"
   ]
  },
  {
   "cell_type": "code",
   "execution_count": 4,
   "metadata": {},
   "outputs": [],
   "source": [
    "r_PO = Matrix([-d*sin(th)+l,-d*cos(th),0])"
   ]
  },
  {
   "cell_type": "code",
   "execution_count": 5,
   "metadata": {},
   "outputs": [
    {
     "data": {
      "text/latex": [
       "$\\displaystyle \\left[\\begin{matrix}d \\dot{\\theta}^{2} \\sin{\\left(\\theta \\right)} - d \\dot{\\theta} \\left(\\dot{\\phi} + \\dot{\\theta}\\right) \\sin{\\left(\\theta \\right)} - \\left(\\dot{\\phi} + \\dot{\\theta}\\right) \\left(d \\dot{\\theta} \\sin{\\left(\\theta \\right)} + \\left(\\dot{\\phi} + \\dot{\\theta}\\right) \\left(- d \\sin{\\left(\\theta \\right)} + l\\right)\\right)\\\\d \\ddot{\\theta} \\sin{\\left(\\theta \\right)} + d \\dot{\\theta}^{2} \\cos{\\left(\\theta \\right)} - d \\dot{\\theta} \\left(\\dot{\\phi} + \\dot{\\theta}\\right) \\cos{\\left(\\theta \\right)} + \\ddot{\\theta} \\left(- d \\sin{\\left(\\theta \\right)} + l\\right) + \\left(\\dot{\\phi} + \\dot{\\theta}\\right) \\left(- d \\dot{\\theta} \\cos{\\left(\\theta \\right)} + d \\left(\\dot{\\phi} + \\dot{\\theta}\\right) \\cos{\\left(\\theta \\right)}\\right)\\\\0\\end{matrix}\\right]$"
      ],
      "text/plain": [
       "⎡                2                                                             ↪\n",
       "⎢             d⋅θ̇ ⋅sin(θ) - d⋅θ̇⋅(φ̇ + θ̇)⋅sin(θ) - (φ̇ + θ̇)⋅(d⋅θ̇⋅sin(θ) + (φ̇ + θ̇) ↪\n",
       "⎢                                                                              ↪\n",
       "⎢                2                                                             ↪\n",
       "⎢d⋅θ̈⋅sin(θ) + d⋅θ̇ ⋅cos(θ) - d⋅θ̇⋅(φ̇ + θ̇)⋅cos(θ) + θ̈⋅(-d⋅sin(θ) + l) + (φ̇ + θ̇)⋅( ↪\n",
       "⎢                                                                              ↪\n",
       "⎣                                                     0                        ↪\n",
       "\n",
       "↪                                ⎤\n",
       "↪ ⋅(-d⋅sin(θ) + l))              ⎥\n",
       "↪                                ⎥\n",
       "↪                                ⎥\n",
       "↪ -d⋅θ̇⋅cos(θ) + d⋅(φ̇ + θ̇)⋅cos(θ))⎥\n",
       "↪                                ⎥\n",
       "↪                                ⎦"
      ]
     },
     "execution_count": 5,
     "metadata": {},
     "output_type": "execute_result"
    }
   ],
   "source": [
    "v_PO = transportEq(r_PO,t,diffmap,iWb)\n",
    "a_PO = transportEq(v_PO,t,diffmap,iWb)\n",
    "a_PO"
   ]
  },
  {
   "cell_type": "code",
   "execution_count": 8,
   "metadata": {},
   "outputs": [],
   "source": [
    "Fc = symbols('F_c',real=True)\n",
    "m,g = symbols('m,g',real=True)\n",
    "\n",
    "forces = Matrix([-Fc,0,0])+Transpose(aCb)*Transpose(iCa)*Matrix([m*g,0,0])"
   ]
  },
  {
   "cell_type": "code",
   "execution_count": 9,
   "metadata": {},
   "outputs": [
    {
     "data": {
      "text/latex": [
       "$\\displaystyle \\left[\\begin{matrix}- F_{c} + g m \\left(\\sin{\\left(\\phi \\right)} \\sin{\\left(\\theta \\right)} - \\cos{\\left(\\phi \\right)} \\cos{\\left(\\theta \\right)}\\right)\\\\g m \\left(- \\sin{\\left(\\phi \\right)} \\cos{\\left(\\theta \\right)} - \\sin{\\left(\\theta \\right)} \\cos{\\left(\\phi \\right)}\\right)\\\\0\\end{matrix}\\right]$"
      ],
      "text/plain": [
       "⎡-F_c + g⋅m⋅(sin(φ)⋅sin(θ) - cos(φ)⋅cos(θ))⎤\n",
       "⎢                                          ⎥\n",
       "⎢   g⋅m⋅(-sin(φ)⋅cos(θ) - sin(θ)⋅cos(φ))   ⎥\n",
       "⎢                                          ⎥\n",
       "⎣                    0                     ⎦"
      ]
     },
     "execution_count": 9,
     "metadata": {},
     "output_type": "execute_result"
    }
   ],
   "source": [
    "forces"
   ]
  },
  {
   "cell_type": "code",
   "execution_count": 10,
   "metadata": {},
   "outputs": [
    {
     "data": {
      "image/png": "[encoded data removed]",
      "text/latex": [
       "$\\displaystyle \\left\\{ \\ddot{\\theta} : - \\frac{d \\dot{\\phi}^{2} \\cos{\\left(\\theta \\right)} + g \\sin{\\left(\\phi \\right)} \\cos{\\left(\\theta \\right)} + g \\sin{\\left(\\theta \\right)} \\cos{\\left(\\phi \\right)}}{l}\\right\\}$"
      ],
      "text/plain": [
       "⎧    ⎛   2                                           ⎞ ⎫\n",
       "⎪   -⎝d⋅φ̇ ⋅cos(θ) + g⋅sin(φ)⋅cos(θ) + g⋅sin(θ)⋅cos(φ)⎠ ⎪\n",
       "⎨θ̈: ───────────────────────────────────────────────────⎬\n",
       "⎪                            l                         ⎪\n",
       "⎩                                                      ⎭"
      ]
     },
     "execution_count": 10,
     "metadata": {},
     "output_type": "execute_result"
    }
   ],
   "source": [
    "eom = m*a_PO-forces\n",
    "finalEq = factor(simplify(solve(eom,thdd)))\n",
    "finalEq"
   ]
  },
  {
   "cell_type": "code",
   "execution_count": 11,
   "metadata": {},
   "outputs": [
    {
     "data": {
      "image/png": "[encoded data removed]",
      "text/latex": [
       "$\\displaystyle \\left\\{ \\ddot{\\theta} : - \\frac{g \\sin{\\left(\\theta \\right)}}{l}\\right\\}$"
      ],
      "text/plain": [
       "⎧   -g⋅sin(θ) ⎫\n",
       "⎨θ̈: ──────────⎬\n",
       "⎩       l     ⎭"
      ]
     },
     "execution_count": 11,
     "metadata": {},
     "output_type": "execute_result"
    }
   ],
   "source": [
    "finalEq.subs([(ph,0),(phd,0)])"
   ]
  },
  {
   "cell_type": "code",
   "execution_count": null,
   "metadata": {},
   "outputs": [],
   "source": []
  }
 ],
 "metadata": {
  "kernelspec": {
   "display_name": "base",
   "language": "python",
   "name": "python3"
  },
  "language_info": {
   "codemirror_mode": {
    "name": "ipython",
    "version": 3
   },
   "file_extension": ".py",
   "mimetype": "text/x-python",
   "name": "python",
   "nbconvert_exporter": "python",
   "pygments_lexer": "ipython3",
   "version": "3.10.16"
  }
 },
 "nbformat": 4,
 "nbformat_minor": 2
}
