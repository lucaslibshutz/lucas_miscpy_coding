{
 "cells": [
  {
   "cell_type": "code",
   "execution_count": 1,
   "metadata": {
    "tags": []
   },
   "outputs": [],
   "source": [
    "from miscpy.utils.sympyhelpers import *\n",
    "init_printing()"
   ]
  },
  {
   "cell_type": "markdown",
   "metadata": {},
   "source": [
    "This is Example 7.1 from Kasdin & Paley (2011).  The system consists of two point masses $m_P$ and $m_Q$ rigidly attached by a massless link of length $l$ to one another.  Each particle is also attached by a massless rigid link (also of link $l$) to point $O$, forming an equilateral triangle.  The system is allowed to swing freely in-plane, with gravity as the only external force."
   ]
  },
  {
   "cell_type": "code",
   "execution_count": 2,
   "metadata": {
    "collapsed": false,
    "jupyter": {
     "outputs_hidden": false
    }
   },
   "outputs": [],
   "source": [
    "# define constants, coordinates, differentiation map, and DCM for I and B frames, defined as in the example.\n",
    "l,th,thd,thdd,mp,mq,t,TP,TQ,FPQ = symbols('l,theta,thetadot,thetaddot,m_P,m_Q,t,T_P,T_Q,F_{PQ}')\n",
    "diffmap = {th:thd,thd:thdd}\n",
    "iWb = Matrix([0,0,thd])\n",
    "bCi = rotMat(3,(th-pi/2))"
   ]
  },
  {
   "cell_type": "code",
   "execution_count": 3,
   "metadata": {
    "tags": []
   },
   "outputs": [
    {
     "data": {
      "image/png": "[encoded data removed]",
      "text/latex": [
       "$\\displaystyle \\left( \\frac{l \\dot{\\theta} \\hat{\\mathbf{e}}_1}{2} + \\frac{\\sqrt{3} l \\dot{\\theta} \\hat{\\mathbf{e}}_2}{2}, \\  - \\frac{l \\dot{\\theta} \\hat{\\mathbf{e}}_1}{2} + \\frac{\\sqrt{3} l \\dot{\\theta} \\hat{\\mathbf{e}}_2}{2}\\right)$"
      ],
      "text/plain": [
       "⎛l⋅θ̇⋅\\hat{\\mathbf{e}}₁   √3⋅l⋅θ̇⋅\\hat{\\mathbf{e}}₂    l⋅θ̇⋅\\hat{\\mathbf{e}}₁   √ ↪\n",
       "⎜───────────────────── + ────────────────────────, - ───────────────────── + ─ ↪\n",
       "⎝          2                        2                          2               ↪\n",
       "\n",
       "↪ 3⋅l⋅θ̇⋅\\hat{\\mathbf{e}}₂⎞\n",
       "↪ ───────────────────────⎟\n",
       "↪           2            ⎠"
      ]
     },
     "execution_count": 3,
     "metadata": {},
     "output_type": "execute_result"
    }
   ],
   "source": [
    "# do the kinematics\n",
    "r_PO = Matrix([sqrt(3)*l/2,-l/2,0])\n",
    "v_PO = transportEq(r_PO,t,diffmap,iWb)\n",
    "r_QO = Matrix([sqrt(3)*l/2,l/2,0])\n",
    "v_QO = transportEq(r_QO,t,diffmap,iWb)\n",
    "mat2vec(v_PO), mat2vec(v_QO)"
   ]
  },
  {
   "cell_type": "code",
   "execution_count": 4,
   "metadata": {
    "collapsed": false,
    "jupyter": {
     "outputs_hidden": false
    }
   },
   "outputs": [
    {
     "data": {
      "image/png": "[encoded data removed]",
      "text/latex": [
       "$\\displaystyle \\left(l^{2} m_{P} \\dot{\\theta} + l^{2} m_{Q} \\dot{\\theta}\\right) \\mathbf{e}_z$"
      ],
      "text/plain": [
       "⎛ 2          2      ⎞             \n",
       "⎝l ⋅m_P⋅θ̇ + l ⋅m_Q⋅θ̇⎠⋅\\mathbf{e}_z"
      ]
     },
     "execution_count": 4,
     "metadata": {},
     "output_type": "execute_result"
    }
   ],
   "source": [
    "# find the net angular momentum about point O\n",
    "h_O = mp*r_PO.cross(v_PO) + mq*r_QO.cross(v_QO)\n",
    "mat2vec(h_O,polarframe)"
   ]
  },
  {
   "cell_type": "code",
   "execution_count": 5,
   "metadata": {
    "collapsed": false,
    "jupyter": {
     "outputs_hidden": false
    }
   },
   "outputs": [
    {
     "data": {
      "image/png": "[encoded data removed]",
      "text/latex": [
       "$\\displaystyle \\left( \\left(\\frac{l \\left(- \\frac{\\sqrt{3} T_{P}}{2} + g m_{P} \\cos{\\left(\\theta \\right)}\\right)}{2} + \\frac{\\sqrt{3} l \\left(F_{PQ} + \\frac{T_{P}}{2} - g m_{P} \\sin{\\left(\\theta \\right)}\\right)}{2}\\right) \\hat{\\mathbf{e}}_3, \\  \\left(- \\frac{l \\left(- \\frac{\\sqrt{3} T_{Q}}{2} + g m_{Q} \\cos{\\left(\\theta \\right)}\\right)}{2} + \\frac{\\sqrt{3} l \\left(- F_{PQ} - \\frac{T_{Q}}{2} - g m_{Q} \\sin{\\left(\\theta \\right)}\\right)}{2}\\right) \\hat{\\mathbf{e}}_3\\right)$"
      ],
      "text/plain": [
       "⎛⎛  ⎛  √3⋅T_P               ⎞        ⎛         T_P               ⎞⎞            ↪\n",
       "⎜⎜l⋅⎜- ────── + g⋅m_P⋅cos(θ)⎟   √3⋅l⋅⎜F_{PQ} + ─── - g⋅m_P⋅sin(θ)⎟⎟            ↪\n",
       "⎜⎜  ⎝    2                  ⎠        ⎝          2                ⎠⎟            ↪\n",
       "⎜⎜─────────────────────────── + ──────────────────────────────────⎟⋅\\hat{\\math ↪\n",
       "⎝⎝             2                                2                 ⎠            ↪\n",
       "\n",
       "↪          ⎛    ⎛  √3⋅T_Q               ⎞        ⎛          T_Q                ↪\n",
       "↪          ⎜  l⋅⎜- ────── + g⋅m_Q⋅cos(θ)⎟   √3⋅l⋅⎜-F_{PQ} - ─── - g⋅m_Q⋅sin(θ) ↪\n",
       "↪          ⎜    ⎝    2                  ⎠        ⎝           2                 ↪\n",
       "↪ bf{e}}₃, ⎜- ─────────────────────────── + ────────────────────────────────── ↪\n",
       "↪          ⎝               2                                 2                 ↪\n",
       "\n",
       "↪ ⎞⎞                  ⎞\n",
       "↪ ⎟⎟                  ⎟\n",
       "↪ ⎠⎟                  ⎟\n",
       "↪ ─⎟⋅\\hat{\\mathbf{e}}₃⎟\n",
       "↪  ⎠                  ⎠"
      ]
     },
     "execution_count": 5,
     "metadata": {},
     "output_type": "execute_result"
    }
   ],
   "source": [
    "# compute the external moments\n",
    "M_PO = r_PO.cross(Matrix([-sqrt(3)/2*TP,TP/2,0])+ Matrix([0,FPQ,0])+ bCi*Matrix([0,-mp*g,0]))\n",
    "M_QO = r_QO.cross(Matrix([-sqrt(3)/2*TQ,-TQ/2,0])+ Matrix([0,-FPQ,0])+ bCi*Matrix([0,-mq*g,0]))\n",
    "mat2vec(M_PO),mat2vec(M_QO)"
   ]
  },
  {
   "cell_type": "code",
   "execution_count": 6,
   "metadata": {},
   "outputs": [
    {
     "data": {
      "image/png": "[encoded data removed]",
      "text/latex": [
       "$\\displaystyle \\left\\{ \\ddot{\\theta} : - \\frac{\\sqrt{3} g m_{P} \\sin{\\left(\\theta \\right)}}{2 l m_{P} + 2 l m_{Q}} + \\frac{g m_{P} \\cos{\\left(\\theta \\right)}}{2 l m_{P} + 2 l m_{Q}} - \\frac{\\sqrt{3} g m_{Q} \\sin{\\left(\\theta \\right)}}{2 l m_{P} + 2 l m_{Q}} - \\frac{g m_{Q} \\cos{\\left(\\theta \\right)}}{2 l m_{P} + 2 l m_{Q}}\\right\\}$"
      ],
      "text/plain": [
       "⎧      √3⋅g⋅m_P⋅sin(θ)      g⋅m_P⋅cos(θ)       √3⋅g⋅m_Q⋅sin(θ)      g⋅m_Q⋅cos( ↪\n",
       "⎨θ̈: - ───────────────── + ───────────────── - ───────────────── - ──────────── ↪\n",
       "⎩     2⋅l⋅m_P + 2⋅l⋅m_Q   2⋅l⋅m_P + 2⋅l⋅m_Q   2⋅l⋅m_P + 2⋅l⋅m_Q   2⋅l⋅m_P + 2⋅ ↪\n",
       "\n",
       "↪ θ)   ⎫\n",
       "↪ ─────⎬\n",
       "↪ l⋅m_Q⎭"
      ]
     },
     "execution_count": 6,
     "metadata": {},
     "output_type": "execute_result"
    }
   ],
   "source": [
    "# set up and solve the equations of motion (angular momentum balance about O)\n",
    "eom = difftotalmat(h_O,t,diffmap) - (M_PO+M_QO)\n",
    "simplify(solve(eom,thdd))"
   ]
  },
  {
   "cell_type": "code",
   "execution_count": 7,
   "metadata": {
    "collapsed": false,
    "jupyter": {
     "outputs_hidden": false
    }
   },
   "outputs": [
    {
     "data": {
      "image/png": "[encoded data removed]",
      "text/latex": [
       "$\\displaystyle \\left\\{ \\ddot{\\theta} : - \\frac{\\sqrt{3} g \\sin{\\left(\\theta \\right)}}{2 l}\\right\\}$"
      ],
      "text/plain": [
       "⎧   -√3⋅g⋅sin(θ) ⎫\n",
       "⎨θ̈: ─────────────⎬\n",
       "⎩        2⋅l     ⎭"
      ]
     },
     "execution_count": 7,
     "metadata": {},
     "output_type": "execute_result"
    }
   ],
   "source": [
    "# finally, solve for the case with equal masses:\n",
    "simplify(solve(eom.subs(mq,mp),thdd))"
   ]
  },
  {
   "cell_type": "code",
   "execution_count": null,
   "metadata": {},
   "outputs": [],
   "source": []
  }
 ],
 "metadata": {
  "kernelspec": {
   "display_name": "base",
   "language": "python",
   "name": "python3"
  },
  "language_info": {
   "codemirror_mode": {
    "name": "ipython",
    "version": 3
   },
   "file_extension": ".py",
   "mimetype": "text/x-python",
   "name": "python",
   "nbconvert_exporter": "python",
   "pygments_lexer": "ipython3",
   "version": "3.12.4"
  }
 },
 "nbformat": 4,
 "nbformat_minor": 4
}
