{
 "cells": [
  {
   "cell_type": "code",
   "execution_count": 1,
   "metadata": {},
   "outputs": [],
   "source": [
    "from miscpy.utils.sympyhelpers import *\n",
    "init_printing()"
   ]
  },
  {
   "cell_type": "code",
   "execution_count": 2,
   "metadata": {},
   "outputs": [],
   "source": [
    "l = symbols('ell',real=True)\n",
    "m,g,omega = symbols('m g Omega',real=True)\n",
    "x,xd,xdd = symbols('x xdot xddot',real=True)\n",
    "t = symbols('t',real=True)\n",
    "k,n = symbols('k N',real=True)\n",
    "diffmap = {x:xd,xd:xdd}\n",
    "iWb = Matrix([0,0,omega])"
   ]
  },
  {
   "cell_type": "code",
   "execution_count": 3,
   "metadata": {},
   "outputs": [],
   "source": [
    "r_OO = Matrix([0,l,0])\n",
    "v_OO = transportEq(r_OO,t,diffmap,iWb)\n",
    "a_OO = transportEq(v_OO,t,diffmap,iWb)"
   ]
  },
  {
   "cell_type": "code",
   "execution_count": 4,
   "metadata": {},
   "outputs": [],
   "source": [
    "r_PO_p = Matrix([x,0,0])\n",
    "v_PO_p = difftotalmat(r_PO_p,t,diffmap)\n",
    "a_PO_p = difftotalmat(v_PO_p,t,diffmap)"
   ]
  },
  {
   "cell_type": "code",
   "execution_count": 5,
   "metadata": {},
   "outputs": [],
   "source": [
    "cor = 2*iWb.cross(v_PO_p)\n",
    "cent = iWb.cross(iWb.cross(r_PO_p))"
   ]
  },
  {
   "cell_type": "code",
   "execution_count": 6,
   "metadata": {},
   "outputs": [
    {
     "data": {
      "image/png": "[encoded data removed]",
      "text/latex": [
       "$\\displaystyle \\left(- \\Omega^{2} \\ell + 2 \\Omega \\dot{x}\\right) \\hat{\\mathbf{b}}_2 + \\left(- \\Omega^{2} x + \\ddot{x}\\right) \\hat{\\mathbf{b}}_1$"
      ],
      "text/plain": [
       "⎛   2            ⎞                     ⎛   2      ⎞                  \n",
       "⎝- Ω ⋅ell + 2⋅Ω⋅ẋ⎠⋅\\hat{\\mathbf{b}}₂ + ⎝- Ω ⋅x + ẍ⎠⋅\\hat{\\mathbf{b}}₁"
      ]
     },
     "execution_count": 6,
     "metadata": {},
     "output_type": "execute_result"
    }
   ],
   "source": [
    "a_PO = a_OO+a_PO_p+cor+cent\n",
    "mat2vec(a_PO,basis='b')"
   ]
  },
  {
   "cell_type": "code",
   "execution_count": 7,
   "metadata": {},
   "outputs": [],
   "source": [
    "forces = Matrix([-k*x,0,0])+Matrix([0,n,0])"
   ]
  },
  {
   "cell_type": "code",
   "execution_count": 8,
   "metadata": {},
   "outputs": [],
   "source": [
    "eom = m*a_PO - forces"
   ]
  },
  {
   "cell_type": "code",
   "execution_count": 9,
   "metadata": {},
   "outputs": [],
   "source": [
    "xsol = solve(eom,xdd)"
   ]
  },
  {
   "cell_type": "code",
   "execution_count": 10,
   "metadata": {},
   "outputs": [
    {
     "data": {
      "image/png": "[encoded data removed]",
      "text/latex": [
       "$\\displaystyle \\left[ - \\sqrt{\\frac{k}{m}}, \\  \\sqrt{\\frac{k}{m}}\\right]$"
      ],
      "text/plain": [
       "⎡     ___      ___⎤\n",
       "⎢    ╱ k      ╱ k ⎥\n",
       "⎢-  ╱  ─ ,   ╱  ─ ⎥\n",
       "⎣ ╲╱   m   ╲╱   m ⎦"
      ]
     },
     "execution_count": 10,
     "metadata": {},
     "output_type": "execute_result"
    }
   ],
   "source": [
    "solve(xsol[xdd],omega)"
   ]
  },
  {
   "cell_type": "code",
   "execution_count": 11,
   "metadata": {},
   "outputs": [],
   "source": [
    "r_PO = r_OO + r_PO_p"
   ]
  },
  {
   "cell_type": "code",
   "execution_count": 12,
   "metadata": {},
   "outputs": [],
   "source": [
    "v_PO = transportEq(r_PO,t,diffmap,iWb)"
   ]
  },
  {
   "cell_type": "code",
   "execution_count": 13,
   "metadata": {},
   "outputs": [],
   "source": [
    "h_PO = r_PO.cross(m*v_PO)"
   ]
  },
  {
   "cell_type": "code",
   "execution_count": 14,
   "metadata": {},
   "outputs": [
    {
     "data": {
      "image/png": "[encoded data removed]",
      "text/latex": [
       "$\\displaystyle m \\left(\\Omega x^{2} + \\ell \\left(\\Omega \\ell - \\dot{x}\\right)\\right) \\hat{\\mathbf{b}}_3$"
      ],
      "text/plain": [
       "  ⎛   2                  ⎞                  \n",
       "m⋅⎝Ω⋅x  + ell⋅(Ω⋅ell - ẋ)⎠⋅\\hat{\\mathbf{b}}₃"
      ]
     },
     "execution_count": 14,
     "metadata": {},
     "output_type": "execute_result"
    }
   ],
   "source": [
    "mat2vec(simplify(h_PO),basis='b')"
   ]
  },
  {
   "cell_type": "code",
   "execution_count": null,
   "metadata": {},
   "outputs": [],
   "source": []
  }
 ],
 "metadata": {
  "kernelspec": {
   "display_name": "base",
   "language": "python",
   "name": "python3"
  },
  "language_info": {
   "codemirror_mode": {
    "name": "ipython",
    "version": 3
   },
   "file_extension": ".py",
   "mimetype": "text/x-python",
   "name": "python",
   "nbconvert_exporter": "python",
   "pygments_lexer": "ipython3",
   "version": "3.12.4"
  }
 },
 "nbformat": 4,
 "nbformat_minor": 2
}
