{
 "cells": [
  {
   "cell_type": "code",
   "execution_count": 1,
   "metadata": {},
   "outputs": [],
   "source": [
    "from miscpy.utils.sympyhelpers import *\n",
    "init_printing()"
   ]
  },
  {
   "cell_type": "code",
   "execution_count": 29,
   "metadata": {},
   "outputs": [],
   "source": [
    "diffmap = {th:thd,thd:thdd}\n",
    "m,b,omega,n = symbols('m_p b Omega N',real=True)\n",
    "k,r,th0 = symbols('k r theta_0',real=True)"
   ]
  },
  {
   "cell_type": "code",
   "execution_count": 30,
   "metadata": {},
   "outputs": [],
   "source": [
    "iWa = Matrix([0,0,omega])\n",
    "aWb = Matrix([0,0,thd])\n",
    "iWb = iWa+aWb"
   ]
  },
  {
   "cell_type": "code",
   "execution_count": 31,
   "metadata": {},
   "outputs": [
    {
     "data": {
      "text/latex": [
       "$\\displaystyle \\left[\\begin{matrix}- r \\left(\\Omega + \\dot{\\theta}\\right)^{2}\\\\r \\ddot{\\theta}\\\\0\\end{matrix}\\right]$"
      ],
      "text/plain": [
       "⎡          2⎤\n",
       "⎢-r⋅(Ω + θ̇) ⎥\n",
       "⎢           ⎥\n",
       "⎢    r⋅θ̈    ⎥\n",
       "⎢           ⎥\n",
       "⎣     0     ⎦"
      ]
     },
     "execution_count": 31,
     "metadata": {},
     "output_type": "execute_result"
    }
   ],
   "source": [
    "r_PO = Matrix([r,0,0])\n",
    "v_PO = transportEq(r_PO,t,diffmap,iWb)\n",
    "a_PO = transportEq(v_PO,t,diffmap,iWb)\n",
    "a_PO"
   ]
  },
  {
   "cell_type": "code",
   "execution_count": 34,
   "metadata": {},
   "outputs": [],
   "source": [
    "forces = Matrix([n,0,0])-Matrix([0,-k*r*(th-th0),0])"
   ]
  },
  {
   "cell_type": "code",
   "execution_count": 38,
   "metadata": {},
   "outputs": [
    {
     "data": {
      "image/png": "[encoded data removed]",
      "text/latex": [
       "$\\displaystyle \\left\\{ \\ddot{\\theta} : \\frac{k \\left(\\theta - \\theta_{0}\\right)}{m_{p}}\\right\\}$"
      ],
      "text/plain": [
       "⎧   k⋅(θ - θ₀)⎫\n",
       "⎨θ̈: ──────────⎬\n",
       "⎩       mₚ    ⎭"
      ]
     },
     "execution_count": 38,
     "metadata": {},
     "output_type": "execute_result"
    }
   ],
   "source": [
    "factor(solve(m*a_PO-forces,thdd))"
   ]
  },
  {
   "cell_type": "code",
   "execution_count": null,
   "metadata": {},
   "outputs": [],
   "source": []
  }
 ],
 "metadata": {
  "kernelspec": {
   "display_name": "base",
   "language": "python",
   "name": "python3"
  },
  "language_info": {
   "codemirror_mode": {
    "name": "ipython",
    "version": 3
   },
   "file_extension": ".py",
   "mimetype": "text/x-python",
   "name": "python",
   "nbconvert_exporter": "python",
   "pygments_lexer": "ipython3",
   "version": "3.12.4"
  }
 },
 "nbformat": 4,
 "nbformat_minor": 2
}
