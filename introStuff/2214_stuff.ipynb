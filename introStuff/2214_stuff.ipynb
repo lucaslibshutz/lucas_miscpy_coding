{
 "cells": [
  {
   "cell_type": "code",
   "execution_count": 2,
   "id": "7b31a633",
   "metadata": {},
   "outputs": [],
   "source": [
    "from miscpy.utils.sympyhelpers import *\n",
    "init_printing()"
   ]
  },
  {
   "cell_type": "code",
   "execution_count": 42,
   "id": "b1fc7140",
   "metadata": {},
   "outputs": [],
   "source": [
    "z1,z2,t1,t2 = symbols('Z_1,Z_2,theta_1,theta_2')\n",
    "n1,n2 = symbols('n_1,n_2')"
   ]
  },
  {
   "cell_type": "code",
   "execution_count": 43,
   "id": "5654a87e",
   "metadata": {},
   "outputs": [],
   "source": [
    "R = (z2*cos(t2)-z1*cos(t1))/(z2*cos(t2)+z1*cos(t1))"
   ]
  },
  {
   "cell_type": "code",
   "execution_count": 45,
   "id": "8b746bdf",
   "metadata": {},
   "outputs": [],
   "source": [
    "expr2 = simplify(R.subs({z2:(n1/n2)*z1}))"
   ]
  },
  {
   "cell_type": "code",
   "execution_count": 73,
   "id": "e866b1ee",
   "metadata": {},
   "outputs": [
    {
     "data": {
      "image/png": "[encoded data removed]",
      "text/latex": [
       "$\\displaystyle 0.0151549950587156$"
      ],
      "text/plain": [
       "0.0151549950587156"
      ]
     },
     "execution_count": 73,
     "metadata": {},
     "output_type": "execute_result"
    }
   ],
   "source": [
    "simplify(expr2.subs({n2:4*n1,t2:0*(pi/180),t1:atan(4)})).evalf()"
   ]
  },
  {
   "cell_type": "code",
   "execution_count": 74,
   "id": "504e2c43",
   "metadata": {},
   "outputs": [],
   "source": [
    "T = (2*z2*cos(t1))/(z2*cos(t2)+z1*cos(t1))"
   ]
  },
  {
   "cell_type": "code",
   "execution_count": 76,
   "id": "e04a1383",
   "metadata": {},
   "outputs": [
    {
     "data": {
      "image/png": "[encoded data removed]",
      "text/latex": [
       "$\\displaystyle 0$"
      ],
      "text/plain": [
       "0"
      ]
     },
     "execution_count": 76,
     "metadata": {},
     "output_type": "execute_result"
    }
   ],
   "source": [
    "T.subs({t1:pi/2})"
   ]
  }
 ],
 "metadata": {
  "kernelspec": {
   "display_name": "base",
   "language": "python",
   "name": "python3"
  },
  "language_info": {
   "codemirror_mode": {
    "name": "ipython",
    "version": 3
   },
   "file_extension": ".py",
   "mimetype": "text/x-python",
   "name": "python",
   "nbconvert_exporter": "python",
   "pygments_lexer": "ipython3",
   "version": "3.12.4"
  }
 },
 "nbformat": 4,
 "nbformat_minor": 5
}
