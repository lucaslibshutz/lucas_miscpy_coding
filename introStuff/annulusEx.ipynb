{
 "cells": [
  {
   "cell_type": "code",
   "execution_count": 1,
   "metadata": {},
   "outputs": [],
   "source": [
    "from miscpy.utils.sympyhelpers import *\n",
    "init_printing()"
   ]
  },
  {
   "cell_type": "code",
   "execution_count": 10,
   "metadata": {},
   "outputs": [],
   "source": [
    "m,r,theta,rho = symbols('m r theta rho',real=True)\n",
    "r1,r2 = symbols('r_1,r_2',real=True)"
   ]
  },
  {
   "cell_type": "markdown",
   "metadata": {},
   "source": [
    "$\\mathcal{B}\\triangleq (O,\\hat{\\mathbf{b}}_1,\\hat{\\mathbf{b}}_2,\\hat{\\mathbf{b}}_3)$\n",
    "\n",
    "\n",
    "$\\mathbf{r}_{dm/O}=r\\cos(\\theta)\\hat{\\mathbf{b}}_1+r\\sin(\\theta)\\hat{\\mathbf{b}}_2$"
   ]
  },
  {
   "cell_type": "code",
   "execution_count": 3,
   "metadata": {},
   "outputs": [
    {
     "data": {
      "image/png": "[encoded data removed]",
      "text/latex": [
       "$\\displaystyle r \\sin{\\left(\\theta \\right)} \\hat{\\mathbf{b}}_2 + r \\cos{\\left(\\theta \\right)} \\hat{\\mathbf{b}}_1$"
      ],
      "text/plain": [
       "r⋅sin(θ)⋅\\hat{\\mathbf{b}}₂ + r⋅cos(θ)⋅\\hat{\\mathbf{b}}₁"
      ]
     },
     "execution_count": 3,
     "metadata": {},
     "output_type": "execute_result"
    }
   ],
   "source": [
    "r_dmO = Matrix([r*cos(theta),r*sin(theta),0])\n",
    "mat2vec(r_dmO,basis='b')"
   ]
  },
  {
   "cell_type": "code",
   "execution_count": 6,
   "metadata": {},
   "outputs": [],
   "source": [
    "tmp = integrate(integrate(r*r_dmO,(r,r1,r2)),(theta,0,pi))"
   ]
  },
  {
   "cell_type": "code",
   "execution_count": 7,
   "metadata": {},
   "outputs": [
    {
     "data": {
      "text/latex": [
       "$\\displaystyle \\left[\\begin{matrix}0\\\\- \\frac{2 r_{1}^{3}}{3} + \\frac{2 r_{2}^{3}}{3}\\\\0\\end{matrix}\\right]$"
      ],
      "text/plain": [
       "⎡       0       ⎤\n",
       "⎢               ⎥\n",
       "⎢      3       3⎥\n",
       "⎢  2⋅r₁    2⋅r₂ ⎥\n",
       "⎢- ───── + ─────⎥\n",
       "⎢    3       3  ⎥\n",
       "⎢               ⎥\n",
       "⎣       0       ⎦"
      ]
     },
     "execution_count": 7,
     "metadata": {},
     "output_type": "execute_result"
    }
   ],
   "source": [
    "tmp"
   ]
  },
  {
   "cell_type": "code",
   "execution_count": 17,
   "metadata": {},
   "outputs": [],
   "source": [
    "A = (pi/2)*(r2**2-r1**2)"
   ]
  },
  {
   "cell_type": "code",
   "execution_count": 24,
   "metadata": {},
   "outputs": [],
   "source": [
    "r_GO = (rho/m) * tmp\n",
    "r_GO = simplify(r_GO.subs(rho,m/A))"
   ]
  },
  {
   "cell_type": "code",
   "execution_count": 30,
   "metadata": {},
   "outputs": [
    {
     "data": {
      "image/png": "[encoded data removed]",
      "text/latex": [
       "$\\displaystyle \\frac{4 \\left(r_{1}^{3} - r_{2}^{3}\\right) \\mathbf{e}_\\theta}{3 \\pi \\left(r_{1}^{2} - r_{2}^{2}\\right)}$"
      ],
      "text/plain": [
       "  ⎛  3     3⎞                  \n",
       "4⋅⎝r₁  - r₂ ⎠⋅\\mathbf{e}_\\theta\n",
       "───────────────────────────────\n",
       "            ⎛  2     2⎞        \n",
       "        3⋅π⋅⎝r₁  - r₂ ⎠        "
      ]
     },
     "execution_count": 30,
     "metadata": {},
     "output_type": "execute_result"
    }
   ],
   "source": [
    "mat2vec(simplify(r_GO),basis=polarframe)"
   ]
  }
 ],
 "metadata": {
  "kernelspec": {
   "display_name": "base",
   "language": "python",
   "name": "python3"
  },
  "language_info": {
   "codemirror_mode": {
    "name": "ipython",
    "version": 3
   },
   "file_extension": ".py",
   "mimetype": "text/x-python",
   "name": "python",
   "nbconvert_exporter": "python",
   "pygments_lexer": "ipython3",
   "version": "3.12.4"
  }
 },
 "nbformat": 4,
 "nbformat_minor": 2
}
