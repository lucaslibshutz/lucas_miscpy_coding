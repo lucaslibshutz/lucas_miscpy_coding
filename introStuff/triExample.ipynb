{
 "cells": [
  {
   "cell_type": "code",
   "execution_count": 2,
   "metadata": {},
   "outputs": [],
   "source": [
    "from miscpy.utils.sympyhelpers import *\n",
    "init_printing()"
   ]
  },
  {
   "cell_type": "markdown",
   "metadata": {},
   "source": [
    "We have a right triangle of height $h$ and width $w$. We define a body fixed frame $\\mathcal{B}=(O,\\hat{\\mathbf{b}}_1,\\hat{\\mathbf{b}}_2,\\hat{\\mathbf{b}}_3)$ such that $\\hat{\\mathbf{b}}_1$ is paralell to the base of the triangle, $\\hat{\\mathbf{b}}_2$ is parallel to the height, and $\\hat{\\mathbf{b}}_3$ is orthogonal to the surface of the triangle. First, we find the location of the center of mass. We will set our coordinate origin in the bottom right-hand corner of the triangle (at the right angle) and describe the position of each mass element as $\\mathbf{r}_{dm/O}=x\\mathbf{\\hat{b}}_1 + y\\mathbf{\\hat{b}}_2$"
   ]
  },
  {
   "cell_type": "code",
   "execution_count": 3,
   "metadata": {},
   "outputs": [],
   "source": [
    "m,h,w = symbols('m,h,w',positive=True)\n",
    "x,y = symbols('x,y',real=True)"
   ]
  },
  {
   "cell_type": "code",
   "execution_count": 4,
   "metadata": {},
   "outputs": [
    {
     "data": {
      "image/png": "[encoded data removed]",
      "text/latex": [
       "$\\displaystyle x \\hat{\\mathbf{e}}_1 + y \\hat{\\mathbf{e}}_2$"
      ],
      "text/plain": [
       "x⋅\\hat{\\mathbf{e}}₁ + y⋅\\hat{\\mathbf{e}}₂"
      ]
     },
     "execution_count": 4,
     "metadata": {},
     "output_type": "execute_result"
    }
   ],
   "source": [
    "r_dmO = Matrix([x,y,0])\n",
    "mat2vec(r_dmO)"
   ]
  },
  {
   "cell_type": "code",
   "execution_count": 5,
   "metadata": {},
   "outputs": [
    {
     "data": {
      "image/png": "[encoded data removed]",
      "text/latex": [
       "$\\displaystyle \\frac{h^{2} w \\hat{\\mathbf{e}}_2}{6} + \\frac{h w^{2} \\hat{\\mathbf{e}}_1}{6}$"
      ],
      "text/plain": [
       " 2                          2                  \n",
       "h ⋅w⋅\\hat{\\mathbf{e}}₂   h⋅w ⋅\\hat{\\mathbf{e}}₁\n",
       "────────────────────── + ──────────────────────\n",
       "          6                        6           "
      ]
     },
     "execution_count": 5,
     "metadata": {},
     "output_type": "execute_result"
    }
   ],
   "source": [
    "tmp = integrate(integrate(r_dmO,(y,0,h-h/w*x)),(x,0,w))\n",
    "mat2vec(tmp)"
   ]
  },
  {
   "cell_type": "code",
   "execution_count": 6,
   "metadata": {},
   "outputs": [
    {
     "data": {
      "image/png": "[encoded data removed]",
      "text/latex": [
       "$\\displaystyle \\frac{h \\hat{\\mathbf{e}}_2}{3} + \\frac{w \\hat{\\mathbf{e}}_1}{3}$"
      ],
      "text/plain": [
       "h⋅\\hat{\\mathbf{e}}₂   w⋅\\hat{\\mathbf{e}}₁\n",
       "─────────────────── + ───────────────────\n",
       "         3                     3         "
      ]
     },
     "execution_count": 6,
     "metadata": {},
     "output_type": "execute_result"
    }
   ],
   "source": [
    "r_GO = 2/h/w*tmp\n",
    "mat2vec(r_GO)"
   ]
  },
  {
   "cell_type": "code",
   "execution_count": 7,
   "metadata": {},
   "outputs": [],
   "source": [
    "r_dmG = r_dmO-r_GO"
   ]
  },
  {
   "cell_type": "code",
   "execution_count": 9,
   "metadata": {},
   "outputs": [
    {
     "data": {
      "image/png": "[encoded data removed]",
      "text/latex": [
       "$\\displaystyle \\left(- \\frac{h}{3} + y\\right) \\hat{\\mathbf{e}}_2 + \\left(- \\frac{w}{3} + x\\right) \\hat{\\mathbf{e}}_1$"
      ],
      "text/plain": [
       "⎛  h    ⎞                     ⎛  w    ⎞                  \n",
       "⎜- ─ + y⎟⋅\\hat{\\mathbf{e}}₂ + ⎜- ─ + x⎟⋅\\hat{\\mathbf{e}}₁\n",
       "⎝  3    ⎠                     ⎝  3    ⎠                  "
      ]
     },
     "execution_count": 9,
     "metadata": {},
     "output_type": "execute_result"
    }
   ],
   "source": [
    "mat2vec(r_dmG)"
   ]
  },
  {
   "cell_type": "code",
   "execution_count": 10,
   "metadata": {},
   "outputs": [
    {
     "data": {
      "image/png": "[encoded data removed]",
      "text/latex": [
       "$\\displaystyle \\left(- \\frac{h}{3} + y\\right)^{2} + \\left(- \\frac{w}{3} + x\\right)^{2}$"
      ],
      "text/plain": [
       "         2            2\n",
       "⎛  h    ⎞    ⎛  w    ⎞ \n",
       "⎜- ─ + y⎟  + ⎜- ─ + x⎟ \n",
       "⎝  3    ⎠    ⎝  3    ⎠ "
      ]
     },
     "execution_count": 10,
     "metadata": {},
     "output_type": "execute_result"
    }
   ],
   "source": [
    "r_dmG2 = r_dmG.dot(r_dmG)\n",
    "r_dmG2"
   ]
  },
  {
   "cell_type": "code",
   "execution_count": 11,
   "metadata": {},
   "outputs": [
    {
     "data": {
      "image/png": "[encoded data removed]",
      "text/latex": [
       "$\\displaystyle \\frac{h w \\left(h^{2} + w^{2}\\right)}{36}$"
      ],
      "text/plain": [
       "    ⎛ 2    2⎞\n",
       "h⋅w⋅⎝h  + w ⎠\n",
       "─────────────\n",
       "     36      "
      ]
     },
     "execution_count": 11,
     "metadata": {},
     "output_type": "execute_result"
    }
   ],
   "source": [
    "tmp2 = integrate(integrate(r_dmG2,(y,0,h-h/w*x)),(x,0,w))\n",
    "simplify(tmp2)"
   ]
  },
  {
   "cell_type": "code",
   "execution_count": 13,
   "metadata": {},
   "outputs": [
    {
     "data": {
      "image/png": "[encoded data removed]",
      "text/latex": [
       "$\\displaystyle \\frac{m \\left(h^{2} + w^{2}\\right)}{18}$"
      ],
      "text/plain": [
       "  ⎛ 2    2⎞\n",
       "m⋅⎝h  + w ⎠\n",
       "───────────\n",
       "    18     "
      ]
     },
     "execution_count": 13,
     "metadata": {},
     "output_type": "execute_result"
    }
   ],
   "source": [
    "I_G = simplify(m/(h*w/2)*tmp2)\n",
    "I_G"
   ]
  },
  {
   "cell_type": "code",
   "execution_count": null,
   "metadata": {},
   "outputs": [],
   "source": []
  }
 ],
 "metadata": {
  "kernelspec": {
   "display_name": "base",
   "language": "python",
   "name": "python3"
  },
  "language_info": {
   "codemirror_mode": {
    "name": "ipython",
    "version": 3
   },
   "file_extension": ".py",
   "mimetype": "text/x-python",
   "name": "python",
   "nbconvert_exporter": "python",
   "pygments_lexer": "ipython3",
   "version": "3.12.4"
  }
 },
 "nbformat": 4,
 "nbformat_minor": 2
}
