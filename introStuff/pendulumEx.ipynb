{
 "cells": [
  {
   "cell_type": "code",
   "execution_count": 3,
   "metadata": {},
   "outputs": [],
   "source": [
    "%matplotlib inline\n",
    "from sympy import symbols\n",
    "from sympy.physics.mechanics import *"
   ]
  },
  {
   "cell_type": "code",
   "execution_count": 29,
   "metadata": {},
   "outputs": [],
   "source": [
    "n=5"
   ]
  },
  {
   "cell_type": "code",
   "execution_count": 30,
   "metadata": {},
   "outputs": [],
   "source": [
    "q = dynamicsymbols('q:' + str(n + 1))  # Generalized coordinates\n",
    "u = dynamicsymbols('u:' + str(n + 1))  # Generalized speeds\n",
    "f = dynamicsymbols('f')                # Force applied to the cart\n",
    "    \n",
    "m = symbols('m:' + str(n + 1))         # Mass of each bob\n",
    "l = symbols('l:' + str(n))             # Length of each link\n",
    "g, t = symbols('g t')                  # Gravity and time"
   ]
  },
  {
   "cell_type": "code",
   "execution_count": 31,
   "metadata": {},
   "outputs": [],
   "source": [
    "I = ReferenceFrame('I')                # Inertial reference frame\n",
    "O = Point('O')                         # Origin point\n",
    "O.set_vel(I, 0)                        # Origin's velocity is zero"
   ]
  },
  {
   "cell_type": "code",
   "execution_count": 32,
   "metadata": {},
   "outputs": [],
   "source": [
    "P0 = Point('P0')                       # Hinge point of top link\n",
    "P0.set_pos(O, q[0] * I.x)              # Set the position of P0    \n",
    "P0.set_vel(I, u[0] * I.x)              # Set the velocity of P0\n",
    "Pa0 = Particle('Pa0', P0, m[0])        # Define a particle at P0"
   ]
  },
  {
   "cell_type": "code",
   "execution_count": 33,
   "metadata": {},
   "outputs": [],
   "source": [
    "frames = [I]                              # List to hold the n + 1 frames\n",
    "points = [P0]                             # List to hold the n + 1 points\n",
    "particles = [Pa0]                         # List to hold the n + 1 particles\n",
    "forces = [(P0, f * I.x - m[0] * g * I.y)] # List to hold the n + 1 applied forces, including the input force, f\n",
    "kindiffs = [q[0].diff(t) - u[0]]          # List to hold kinematic ODE's\n",
    "\n",
    "for i in range(n):\n",
    "    Bi = I.orientnew('B' + str(i), 'Axis', [q[i + 1], I.z])   # Create a new frame\n",
    "    Bi.set_ang_vel(I, u[i + 1] * I.z)                         # Set angular velocity\n",
    "    frames.append(Bi)                                         # Add it to the frames list\n",
    "\n",
    "    Pi = points[-1].locatenew('P' + str(i + 1), l[i] * Bi.x)  # Create a new point\n",
    "    Pi.v2pt_theory(points[-1], I, Bi)                         # Set the velocity\n",
    "    points.append(Pi)                                         # Add it to the points list\n",
    "    \n",
    "    Pai = Particle('Pa' + str(i + 1), Pi, m[i + 1])           # Create a new particle\n",
    "    particles.append(Pai)                                     # Add it to the particles list\n",
    "\n",
    "    forces.append((Pi, -m[i + 1] * g * I.y))                  # Set the force applied at the point\n",
    "        \n",
    "    kindiffs.append(q[i + 1].diff(t) - u[i + 1])              # Define the kinematic ODE:  dq_i / dt - u_i = 0\n",
    "     "
   ]
  },
  {
   "cell_type": "code",
   "execution_count": 34,
   "metadata": {},
   "outputs": [
    {
     "data": {
      "text/plain": [
       "[(P0, f(t)*I.x - g*m0*I.y),\n",
       " (P1, - g*m1*I.y),\n",
       " (P2, - g*m2*I.y),\n",
       " (P3, - g*m3*I.y),\n",
       " (P4, - g*m4*I.y),\n",
       " (P5, - g*m5*I.y)]"
      ]
     },
     "execution_count": 34,
     "metadata": {},
     "output_type": "execute_result"
    }
   ],
   "source": [
    "forces"
   ]
  },
  {
   "cell_type": "code",
   "execution_count": 35,
   "metadata": {},
   "outputs": [],
   "source": [
    "kane = KanesMethod(I, q_ind=q, u_ind=u, kd_eqs=kindiffs) # Initialize the object\n",
    "fr,frstar = kane.kanes_equations(particles,forces) # Generate EoM's fr + frstar = 0"
   ]
  },
  {
   "cell_type": "code",
   "execution_count": 37,
   "metadata": {},
   "outputs": [],
   "source": [
    "from sympy import Dummy, lambdify\n",
    "from numpy import array, hstack, zeros, linspace, pi\n",
    "from numpy.linalg import solve\n",
    "from scipy.integrate import odeint"
   ]
  },
  {
   "cell_type": "code",
   "execution_count": 38,
   "metadata": {},
   "outputs": [],
   "source": [
    "arm_length = 1. / n                          # The maximum length of the pendulum is 1 meter\n",
    "bob_mass = 0.01 / n                          # The maximum mass of the bobs is 10 grams\n",
    "parameters = [g, m[0]]                       # Parameter definitions starting with gravity and the first bob\n",
    "parameter_vals = [9.81, 0.01 / n]            # Numerical values for the first two\n",
    "for i in range(n):                           # Then each mass and length\n",
    "    parameters += [l[i], m[i + 1]]            \n",
    "    parameter_vals += [arm_length, bob_mass]"
   ]
  },
  {
   "cell_type": "code",
   "execution_count": 39,
   "metadata": {},
   "outputs": [],
   "source": [
    "dynamic = q + u                                                # Make a list of the states\n",
    "dynamic.append(f)                                              # Add the input force\n",
    "dummy_symbols = [Dummy() for i in dynamic]                     # Create a dummy symbol for each variable\n",
    "dummy_dict = dict(zip(dynamic, dummy_symbols))                 \n",
    "kindiff_dict = kane.kindiffdict()                              # Get the solved kinematical differential equations\n",
    "M = kane.mass_matrix_full.subs(kindiff_dict).subs(dummy_dict)  # Substitute into the mass matrix \n",
    "F = kane.forcing_full.subs(kindiff_dict).subs(dummy_dict)      # Substitute into the forcing vector\n",
    "M_func = lambdify(dummy_symbols + parameters, M)               # Create a callable function to evaluate the mass matrix \n",
    "F_func = lambdify(dummy_symbols + parameters, F)               # Create a callable function to evaluate the forcing vector "
   ]
  },
  {
   "cell_type": "code",
   "execution_count": 40,
   "metadata": {},
   "outputs": [],
   "source": [
    "def right_hand_side(x, t, args):\n",
    "    \"\"\"Returns the derivatives of the states.\n",
    "\n",
    "    Parameters\n",
    "    ----------\n",
    "    x : ndarray, shape(2 * (n + 1))\n",
    "        The current state vector.\n",
    "    t : float\n",
    "        The current time.\n",
    "    args : ndarray\n",
    "        The constants.\n",
    "\n",
    "    Returns\n",
    "    -------\n",
    "    dx : ndarray, shape(2 * (n + 1))\n",
    "        The derivative of the state.\n",
    "    \n",
    "    \"\"\"\n",
    "    u = 0.0                              # The input force is always zero     \n",
    "    arguments = hstack((x, u, args))     # States, input, and parameters\n",
    "    dx = array(solve(M_func(*arguments), # Solving for the derivatives\n",
    "        F_func(*arguments))).T[0]\n",
    "    \n",
    "    return dx"
   ]
  },
  {
   "cell_type": "code",
   "execution_count": 41,
   "metadata": {},
   "outputs": [],
   "source": [
    "x0 = hstack(( 0, pi / 2 * ones(len(q) - 1), 1e-3 * ones(len(u)) )) # Initial conditions, q and u\n",
    "t = linspace(0, 10, 1000)                                          # Time vector\n",
    "y = odeint(right_hand_side, x0, t, args=(parameter_vals,))         # Actual integration\n",
    "     "
   ]
  },
  {
   "cell_type": "code",
   "execution_count": 45,
   "metadata": {},
   "outputs": [],
   "source": [
    "from numpy import zeros, cos, sin, arange, around\n",
    "from matplotlib import pyplot as plt\n",
    "from matplotlib import animation\n",
    "from matplotlib.patches import Rectangle"
   ]
  },
  {
   "cell_type": "code",
   "execution_count": 46,
   "metadata": {},
   "outputs": [],
   "source": [
    "def animate_pendulum(t, states, length, filename=None):\n",
    "    \"\"\"Animates the n-pendulum and optionally saves it to file.\n",
    "\n",
    "    Parameters\n",
    "    ----------\n",
    "    t : ndarray, shape(m)\n",
    "        Time array.\n",
    "    states: ndarray, shape(m,p)\n",
    "        State time history.\n",
    "    length: float\n",
    "        The length of the pendulum links.\n",
    "    filename: string or None, optional\n",
    "        If true a movie file will be saved of the animation. This may take some time.\n",
    "\n",
    "    Returns\n",
    "    -------\n",
    "    fig : matplotlib.Figure\n",
    "        The figure.\n",
    "    anim : matplotlib.FuncAnimation\n",
    "        The animation.\n",
    "\n",
    "    \"\"\"\n",
    "    # the number of pendulum bobs\n",
    "    numpoints = states.shape[1] / 2\n",
    "\n",
    "    # first set up the figure, the axis, and the plot elements we want to animate\n",
    "    fig = plt.figure()\n",
    "    \n",
    "    # some dimesions\n",
    "    cart_width = 0.4\n",
    "    cart_height = 0.2\n",
    "    \n",
    "    # set the limits based on the motion\n",
    "    xmin = around(states[:, 0].min() - cart_width / 2.0, 1)\n",
    "    xmax = around(states[:, 0].max() + cart_width / 2.0, 1)\n",
    "    \n",
    "    # create the axes\n",
    "    ax = plt.axes(xlim=(xmin, xmax), ylim=(-1.1, 1.1), aspect='equal')\n",
    "    \n",
    "    # display the current time\n",
    "    time_text = ax.text(0.04, 0.9, '', transform=ax.transAxes)\n",
    "    \n",
    "    # create a rectangular cart\n",
    "    rect = Rectangle([states[0, 0] - cart_width / 2.0, -cart_height / 2],\n",
    "        cart_width, cart_height, fill=True, color='red', ec='black')\n",
    "    ax.add_patch(rect)\n",
    "    \n",
    "    # blank line for the pendulum\n",
    "    line, = ax.plot([], [], lw=2, marker='o', markersize=6)\n",
    "\n",
    "    # initialization function: plot the background of each frame\n",
    "    def init():\n",
    "        time_text.set_text('')\n",
    "        rect.set_xy((0.0, 0.0))\n",
    "        line.set_data([], [])\n",
    "        return time_text, rect, line,\n",
    "\n",
    "    # animation function: update the objects\n",
    "    def animate(i):\n",
    "        time_text.set_text('time = {:2.2f}'.format(t[i]))\n",
    "        rect.set_xy((states[i, 0] - cart_width / 2.0, -cart_height / 2))\n",
    "        x = hstack((states[i, 0], zeros((numpoints - 1))))\n",
    "        y = zeros((numpoints))\n",
    "        for j in arange(1, numpoints):\n",
    "            x[j] = x[j - 1] + length * cos(states[i, j])\n",
    "            y[j] = y[j - 1] + length * sin(states[i, j])\n",
    "        line.set_data(x, y)\n",
    "        return time_text, rect, line,\n",
    "\n",
    "    # call the animator function\n",
    "    anim = animation.FuncAnimation(fig, animate, frames=len(t), init_func=init,\n",
    "            interval=t[-1] / len(t) * 1000, blit=True, repeat=False)\n",
    "    \n",
    "    # save the animation if a filename is given\n",
    "    if filename is not None:\n",
    "        anim.save(filename, fps=30, codec='libx264')"
   ]
  }
 ],
 "metadata": {
  "kernelspec": {
   "display_name": "base",
   "language": "python",
   "name": "python3"
  },
  "language_info": {
   "codemirror_mode": {
    "name": "ipython",
    "version": 3
   },
   "file_extension": ".py",
   "mimetype": "text/x-python",
   "name": "python",
   "nbconvert_exporter": "python",
   "pygments_lexer": "ipython3",
   "version": "3.12.4"
  }
 },
 "nbformat": 4,
 "nbformat_minor": 2
}
