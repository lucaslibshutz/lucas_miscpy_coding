{
 "cells": [
  {
   "cell_type": "code",
   "execution_count": 5,
   "metadata": {},
   "outputs": [],
   "source": [
    "from sympyhelpers.sympyhelpers import *\n",
    "from sympy import *\n",
    "sympy.init_printing(order='grevlex')"
   ]
  },
  {
   "cell_type": "code",
   "execution_count": 6,
   "metadata": {},
   "outputs": [],
   "source": [
    "m,g = symbols('m g',real=True)\n",
    "th,thd,thdd = symbols('theta thetadot thetaddot',real=True)\n",
    "b,bd,bdd = symbols('beta betadot betaddot',real=True)\n",
    "k,l,l0 = symbols('k l l_0',real=True)\n",
    "r,rd,rdd = symbols('r rdot rddot',real=True)\n",
    "t = symbols('t',real=True)\n",
    "rho = symbols('rho',real=True)\n",
    "\n",
    "diffmap = {th:thd,thd:thdd,b:bd,bd:bdd,r:rd,rd:rdd}"
   ]
  },
  {
   "cell_type": "code",
   "execution_count": 7,
   "metadata": {},
   "outputs": [],
   "source": [
    "iWb = Matrix([0,0,thd])\n",
    "r_PO = Matrix([r,0,0])\n",
    "v_PO = transportEq(r_PO,t,diffmap,iWb)\n",
    "a_PO = transportEq(v_PO,t,diffmap,iWb)\n",
    "\n",
    "iCb = rotMat(3,-th)\n",
    "cCb = rotMat(3,-b)"
   ]
  },
  {
   "cell_type": "code",
   "execution_count": 8,
   "metadata": {},
   "outputs": [],
   "source": [
    "forces = -k*(r-l0)*Matrix([1,0,0])-k*(rho-l0)*Transpose(cCb)*Matrix([1,0,0])+m*g*Transpose(iCb)*Matrix([1,0,0])"
   ]
  },
  {
   "cell_type": "code",
   "execution_count": 9,
   "metadata": {},
   "outputs": [
    {
     "data": {
      "text/latex": [
       "$\\displaystyle \\left[\\begin{matrix}- k \\left(- l_{0} + \\rho\\right) \\cos{\\left(\\beta \\right)} + g m \\cos{\\left(\\theta \\right)} - k \\left(- l_{0} + r\\right)\\\\k \\left(- l_{0} + \\rho\\right) \\sin{\\left(\\beta \\right)} - g m \\sin{\\left(\\theta \\right)}\\\\0\\end{matrix}\\right]$"
      ],
      "text/plain": [
       "⎡-k⋅(-l₀ + ρ)⋅cos(β) + g⋅m⋅cos(θ) - k⋅(-l₀ + r)⎤\n",
       "⎢                                              ⎥\n",
       "⎢       k⋅(-l₀ + ρ)⋅sin(β) - g⋅m⋅sin(θ)        ⎥\n",
       "⎢                                              ⎥\n",
       "⎣                      0                       ⎦"
      ]
     },
     "execution_count": 9,
     "metadata": {},
     "output_type": "execute_result"
    }
   ],
   "source": [
    "forces"
   ]
  },
  {
   "cell_type": "code",
   "execution_count": 10,
   "metadata": {},
   "outputs": [],
   "source": [
    "eom = m*a_PO - forces"
   ]
  },
  {
   "cell_type": "code",
   "execution_count": 11,
   "metadata": {},
   "outputs": [],
   "source": [
    "sols = solve(eom,[rdd,thdd])"
   ]
  },
  {
   "cell_type": "code",
   "execution_count": 12,
   "metadata": {},
   "outputs": [
    {
     "data": {
      "image/png": "[encoded data removed]",
      "text/latex": [
       "$\\displaystyle \\left\\{ \\ddot{r} : \\frac{m r \\dot{\\theta}^{2} + k l_{0} \\cos{\\left(\\beta \\right)} - k \\rho \\cos{\\left(\\beta \\right)} + g m \\cos{\\left(\\theta \\right)} + k l_{0} - k r}{m}, \\  \\ddot{\\theta} : \\frac{- 2 m \\dot{r} \\dot{\\theta} - k l_{0} \\sin{\\left(\\beta \\right)} + k \\rho \\sin{\\left(\\beta \\right)} - g m \\sin{\\left(\\theta \\right)}}{m r}\\right\\}$"
      ],
      "text/plain": [
       "⎧        2                                                                     ↪\n",
       "⎪   m⋅r⋅θ̇  + k⋅l₀⋅cos(β) - k⋅ρ⋅cos(β) + g⋅m⋅cos(θ) + k⋅l₀ - k⋅r     -2⋅m⋅ṙ⋅θ̇ - ↪\n",
       "⎨r̈: ───────────────────────────────────────────────────────────, θ̈: ────────── ↪\n",
       "⎪                                m                                             ↪\n",
       "⎩                                                                              ↪\n",
       "\n",
       "↪                                       ⎫\n",
       "↪  k⋅l₀⋅sin(β) + k⋅ρ⋅sin(β) - g⋅m⋅sin(θ)⎪\n",
       "↪ ──────────────────────────────────────⎬\n",
       "↪             m⋅r                       ⎪\n",
       "↪                                       ⎭"
      ]
     },
     "execution_count": 12,
     "metadata": {},
     "output_type": "execute_result"
    }
   ],
   "source": [
    "sols"
   ]
  },
  {
   "cell_type": "code",
   "execution_count": 8,
   "metadata": {},
   "outputs": [
    {
     "data": {
      "image/png": "[encoded data removed]",
      "text/latex": [
       "$\\displaystyle r \\dot{\\theta}^{2} + \\frac{k l_{0} \\cos{\\left(\\beta \\right)}}{m} - \\frac{k \\rho \\cos{\\left(\\beta \\right)}}{m} + g \\cos{\\left(\\theta \\right)} + \\frac{k l_{0}}{m} - \\frac{k r}{m}$"
      ],
      "text/plain": [
       "   2   k⋅l₀⋅cos(β)   k⋅ρ⋅cos(β)              k⋅l₀   k⋅r\n",
       "r⋅θ̇  + ─────────── - ────────── + g⋅cos(θ) + ──── - ───\n",
       "            m            m                    m      m "
      ]
     },
     "execution_count": 8,
     "metadata": {},
     "output_type": "execute_result"
    }
   ],
   "source": [
    "expand(simplify(sols[rdd]))"
   ]
  },
  {
   "cell_type": "code",
   "execution_count": 9,
   "metadata": {},
   "outputs": [],
   "source": [
    "t1 = collect(expand(simplify(sols[thdd])),k/(m*r))"
   ]
  },
  {
   "cell_type": "code",
   "execution_count": 10,
   "metadata": {},
   "outputs": [
    {
     "data": {
      "image/png": "[encoded data removed]",
      "text/latex": [
       "$\\displaystyle - \\frac{2 \\dot{r} \\dot{\\theta}}{r} + \\frac{k \\left(- l_{0} + \\rho\\right) \\sin{\\left(\\beta \\right)}}{m r} - \\frac{g \\sin{\\left(\\theta \\right)}}{r}$"
      ],
      "text/plain": [
       "  2⋅ṙ⋅θ̇   k⋅(-l₀ + ρ)⋅sin(β)   g⋅sin(θ)\n",
       "- ───── + ────────────────── - ────────\n",
       "    r            m⋅r              r    "
      ]
     },
     "execution_count": 10,
     "metadata": {},
     "output_type": "execute_result"
    }
   ],
   "source": [
    "collect(t1,sin(b))"
   ]
  },
  {
   "cell_type": "code",
   "execution_count": null,
   "metadata": {},
   "outputs": [],
   "source": []
  }
 ],
 "metadata": {
  "kernelspec": {
   "display_name": "base",
   "language": "python",
   "name": "python3"
  },
  "language_info": {
   "codemirror_mode": {
    "name": "ipython",
    "version": 3
   },
   "file_extension": ".py",
   "mimetype": "text/x-python",
   "name": "python",
   "nbconvert_exporter": "python",
   "pygments_lexer": "ipython3",
   "version": "3.12.4"
  }
 },
 "nbformat": 4,
 "nbformat_minor": 2
}
