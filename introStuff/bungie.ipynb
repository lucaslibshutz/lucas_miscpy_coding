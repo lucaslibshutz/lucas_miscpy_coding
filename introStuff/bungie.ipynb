{
 "cells": [
  {
   "cell_type": "code",
   "execution_count": 89,
   "metadata": {},
   "outputs": [],
   "source": [
    "from miscpy.utils.sympyhelpers import *\n",
    "init_printing(order='grevlex')"
   ]
  },
  {
   "cell_type": "code",
   "execution_count": 90,
   "metadata": {},
   "outputs": [],
   "source": [
    "m,g = symbols('m g',real=True)\n",
    "th,thd,thdd = symbols('theta thetadot thetaddot',real=True)\n",
    "b,bd,bdd = symbols('beta betadot betaddot',real=True)\n",
    "k,l,l0 = symbols('k l l_0',real=True)\n",
    "r,rd,rdd = symbols('r rdot rddot',real=True)\n",
    "t = symbols('t',real=True)\n",
    "rho = symbols('rho',real=True)\n",
    "\n",
    "diffmap = {th:thd,thd:thdd,b:bd,bd:bdd,r:rd,rd:rdd}"
   ]
  },
  {
   "cell_type": "code",
   "execution_count": 91,
   "metadata": {},
   "outputs": [],
   "source": [
    "iWb = Matrix([0,0,thd])\n",
    "r_PO = Matrix([r,0,0])\n",
    "v_PO = transportEq(r_PO,t,diffmap,iWb)\n",
    "a_PO = transportEq(v_PO,t,diffmap,iWb)\n",
    "\n",
    "iCb = rotMat(3,-th)\n",
    "cCb = rotMat(3,-b)"
   ]
  },
  {
   "cell_type": "code",
   "execution_count": 92,
   "metadata": {},
   "outputs": [],
   "source": [
    "forces = -k*(r-l0)*Matrix([1,0,0])-k*(rho-l0)*Transpose(cCb)*Matrix([1,0,0])+m*g*Transpose(iCb)*Matrix([1,0,0])"
   ]
  },
  {
   "cell_type": "code",
   "execution_count": 93,
   "metadata": {},
   "outputs": [],
   "source": [
    "eom = m*a_PO - forces"
   ]
  },
  {
   "cell_type": "code",
   "execution_count": 94,
   "metadata": {},
   "outputs": [],
   "source": [
    "sols = solve(eom,[rdd,thdd])"
   ]
  },
  {
   "cell_type": "code",
   "execution_count": 95,
   "metadata": {},
   "outputs": [
    {
     "data": {
      "image/png": "[encoded data removed]",
      "text/latex": [
       "$\\displaystyle r \\dot{\\theta}^{2} + \\frac{k l_{0} \\cos{\\left(\\beta \\right)}}{m} - \\frac{k \\rho \\cos{\\left(\\beta \\right)}}{m} + g \\cos{\\left(\\theta \\right)} + \\frac{k l_{0}}{m} - \\frac{k r}{m}$"
      ],
      "text/plain": [
       "   2   k⋅l₀⋅cos(β)   k⋅ρ⋅cos(β)              k⋅l₀   k⋅r\n",
       "r⋅θ̇  + ─────────── - ────────── + g⋅cos(θ) + ──── - ───\n",
       "            m            m                    m      m "
      ]
     },
     "execution_count": 95,
     "metadata": {},
     "output_type": "execute_result"
    }
   ],
   "source": [
    "expand(simplify(sols[rdd]))"
   ]
  },
  {
   "cell_type": "code",
   "execution_count": 96,
   "metadata": {},
   "outputs": [],
   "source": [
    "t1 = collect(expand(simplify(sols[thdd])),k/(m*r))"
   ]
  },
  {
   "cell_type": "code",
   "execution_count": 97,
   "metadata": {},
   "outputs": [
    {
     "data": {
      "image/png": "[encoded data removed]",
      "text/latex": [
       "$\\displaystyle - \\frac{2 \\dot{r} \\dot{\\theta}}{r} + \\frac{k \\left(- l_{0} + \\rho\\right) \\sin{\\left(\\beta \\right)}}{m r} - \\frac{g \\sin{\\left(\\theta \\right)}}{r}$"
      ],
      "text/plain": [
       "  2⋅ṙ⋅θ̇   k⋅(-l₀ + ρ)⋅sin(β)   g⋅sin(θ)\n",
       "- ───── + ────────────────── - ────────\n",
       "    r            m⋅r              r    "
      ]
     },
     "execution_count": 97,
     "metadata": {},
     "output_type": "execute_result"
    }
   ],
   "source": [
    "collect(t1,sin(b))"
   ]
  }
 ],
 "metadata": {
  "kernelspec": {
   "display_name": "base",
   "language": "python",
   "name": "python3"
  },
  "language_info": {
   "codemirror_mode": {
    "name": "ipython",
    "version": 3
   },
   "file_extension": ".py",
   "mimetype": "text/x-python",
   "name": "python",
   "nbconvert_exporter": "python",
   "pygments_lexer": "ipython3",
   "version": "3.12.4"
  }
 },
 "nbformat": 4,
 "nbformat_minor": 2
}
